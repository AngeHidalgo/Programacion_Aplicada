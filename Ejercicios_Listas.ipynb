{
  "nbformat": 4,
  "nbformat_minor": 0,
  "metadata": {
    "colab": {
      "provenance": [],
      "authorship_tag": "ABX9TyPtHlYxVWzuNQlDWop/2gO1",
      "include_colab_link": true
    },
    "kernelspec": {
      "name": "python3",
      "display_name": "Python 3"
    },
    "language_info": {
      "name": "python"
    }
  },
  "cells": [
    {
      "cell_type": "markdown",
      "metadata": {
        "id": "view-in-github",
        "colab_type": "text"
      },
      "source": [
        "<a href=\"https://colab.research.google.com/github/AngeHidalgo/Programacion_Aplicada/blob/main/Ejercicios_Listas.ipynb\" target=\"_parent\"><img src=\"https://colab.research.google.com/assets/colab-badge.svg\" alt=\"Open In Colab\"/></a>"
      ]
    },
    {
      "cell_type": "markdown",
      "source": [
        "#1 Reorganice toda la lista"
      ],
      "metadata": {
        "id": "t3QFXIPMvDpT"
      }
    },
    {
      "cell_type": "code",
      "source": [
        "def reorganizar(l):\n",
        "  n=len(l)\n",
        "  if n % 2 == 1:\n",
        "    m=n//2\n",
        "    r=l[m+1:]+l[m:m+1]+l[:m]\n",
        "  else:\n",
        "    m=n//2\n",
        "    r=l[m:]+l[:m]\n",
        "  return r\n",
        "\n",
        "g=[1, 4, 8, 6, 3]\n",
        "\n",
        "x = reorganizar(g)\n",
        "print(x)"
      ],
      "metadata": {
        "colab": {
          "base_uri": "https://localhost:8080/"
        },
        "id": "bucTeBovwYpe",
        "outputId": "f466a984-963a-4658-ef2e-d91391afa773"
      },
      "execution_count": 17,
      "outputs": [
        {
          "output_type": "stream",
          "name": "stdout",
          "text": [
            "[6, 3, 8, 1, 4]\n"
          ]
        }
      ]
    },
    {
      "cell_type": "code",
      "source": [
        "def reorganizar(l):\n",
        "  n=len(l)\n",
        "  if n % 2 == 1:\n",
        "    m=n//2\n",
        "    r=l[m+1:]+l[m:m+1]+l[:m]\n",
        "  else:\n",
        "    m=n//2\n",
        "    r=l[m:]+l[:m]\n",
        "  return r\n",
        "\n",
        "g=[2, 5, 3]\n",
        "\n",
        "x = reorganizar(g)\n",
        "print(x)"
      ],
      "metadata": {
        "colab": {
          "base_uri": "https://localhost:8080/"
        },
        "id": "FTtZIInzzbqN",
        "outputId": "4d2d16a3-5628-475d-d3df-7711e864113a"
      },
      "execution_count": 18,
      "outputs": [
        {
          "output_type": "stream",
          "name": "stdout",
          "text": [
            "[3, 5, 2]\n"
          ]
        }
      ]
    },
    {
      "cell_type": "code",
      "source": [
        "def reorganizar(l):\n",
        "  n=len(l)\n",
        "  if n % 2 == 1:\n",
        "    m=n//2\n",
        "    r=l[m+1:]+l[m:m+1]+l[:m]\n",
        "  else:\n",
        "    m=n//2\n",
        "    r=l[m:]+l[:m]\n",
        "  return r\n",
        "\n",
        "g=[1, 2, 3, 6]\n",
        "\n",
        "x = reorganizar(g)\n",
        "print(x)"
      ],
      "metadata": {
        "colab": {
          "base_uri": "https://localhost:8080/"
        },
        "id": "WjviGWjizhMJ",
        "outputId": "ce1640db-c62e-42b8-e346-e8d0ac73a8af"
      },
      "execution_count": 20,
      "outputs": [
        {
          "output_type": "stream",
          "name": "stdout",
          "text": [
            "[3, 6, 1, 2]\n"
          ]
        }
      ]
    },
    {
      "cell_type": "code",
      "source": [
        "def reorganizar(l):\n",
        "  n=len(l)\n",
        "  if n % 2 == 1:\n",
        "    m=n//2\n",
        "    r=l[m+1:]+l[m:m+1]+l[:m]\n",
        "  else:\n",
        "    m=n//2\n",
        "    r=l[m:]+l[:m]\n",
        "  return r\n",
        "\n",
        "g=[1, 5]\n",
        "\n",
        "x = reorganizar(g)\n",
        "print(x)"
      ],
      "metadata": {
        "colab": {
          "base_uri": "https://localhost:8080/"
        },
        "id": "ZmBZl9Gizt4F",
        "outputId": "4f44a10d-db82-4cf5-c395-16a18379ded2"
      },
      "execution_count": 21,
      "outputs": [
        {
          "output_type": "stream",
          "name": "stdout",
          "text": [
            "[5, 1]\n"
          ]
        }
      ]
    },
    {
      "cell_type": "markdown",
      "source": [
        "# 2. Organice los numero que se encuentran enmedio de la lista"
      ],
      "metadata": {
        "id": "Jaq3Td0rq_57"
      }
    },
    {
      "cell_type": "code",
      "execution_count": 9,
      "metadata": {
        "colab": {
          "base_uri": "https://localhost:8080/"
        },
        "id": "dg9AhJUZqkLt",
        "outputId": "8eb89242-1d61-4c02-a7a7-363d66057a0e"
      },
      "outputs": [
        {
          "output_type": "stream",
          "name": "stdout",
          "text": [
            "[1, 5, 4, 3, 2, 6]\n"
          ]
        }
      ],
      "source": [
        "def reordenar_lista(lista):\n",
        "\n",
        "    cambiar_lista = lista[1:-1][::-1]\n",
        "    return [lista[0]] + cambiar_lista + [lista[-1]]\n",
        "\n",
        "g = [1, 2, 3, 4, 5, 6]\n",
        "\n",
        "r = reordenar_lista(g)\n",
        "print(r)"
      ]
    },
    {
      "cell_type": "code",
      "source": [
        "def reordenar_lista(lista):\n",
        "\n",
        "    cambiar_lista = lista[1:-1][::-1]\n",
        "    return [lista[0]] + cambiar_lista + [lista[-1]]\n",
        "\n",
        "g = [5, 1, 8, 6, 2]\n",
        "\n",
        "r = reordenar_lista(g)\n",
        "print(r)"
      ],
      "metadata": {
        "colab": {
          "base_uri": "https://localhost:8080/"
        },
        "id": "9q5nXP3puqyo",
        "outputId": "f9711237-ae4c-40c1-82d5-b554330ad6bf"
      },
      "execution_count": 10,
      "outputs": [
        {
          "output_type": "stream",
          "name": "stdout",
          "text": [
            "[5, 6, 8, 1, 2]\n"
          ]
        }
      ]
    },
    {
      "cell_type": "code",
      "source": [
        "def reordenar_lista(lista):\n",
        "\n",
        "    cambiar_lista = lista[1:-1][::-1]\n",
        "    return [lista[0]] + cambiar_lista + [lista[-1]]\n",
        "\n",
        "g = [1, 2, 6, 4]\n",
        "\n",
        "r = reordenar_lista(g)\n",
        "print(r)"
      ],
      "metadata": {
        "colab": {
          "base_uri": "https://localhost:8080/"
        },
        "id": "fb59XVFEu0Vb",
        "outputId": "0def3346-879f-499a-e5e8-36010a2e242b"
      },
      "execution_count": 11,
      "outputs": [
        {
          "output_type": "stream",
          "name": "stdout",
          "text": [
            "[1, 6, 2, 4]\n"
          ]
        }
      ]
    },
    {
      "cell_type": "code",
      "source": [
        "def reordenar_lista(lista):\n",
        "\n",
        "    cambiar_lista = lista[1:-1][::-1]\n",
        "    return [lista[0]] + cambiar_lista + [lista[-1]]\n",
        "\n",
        "g = [1, 2, 3]\n",
        "\n",
        "r = reordenar_lista(g)\n",
        "print(r)"
      ],
      "metadata": {
        "colab": {
          "base_uri": "https://localhost:8080/"
        },
        "id": "OgpKJ7Gfu7Bs",
        "outputId": "2d670146-338a-42a8-b7c9-260768d414cf"
      },
      "execution_count": 12,
      "outputs": [
        {
          "output_type": "stream",
          "name": "stdout",
          "text": [
            "[1, 2, 3]\n"
          ]
        }
      ]
    },
    {
      "cell_type": "code",
      "source": [
        "def reordenar_lista(lista):\n",
        "\n",
        "    cambiar_lista = lista[1:-1][::-1]\n",
        "    return [lista[0]] + cambiar_lista + [lista[-1]]\n",
        "\n",
        "g = [1, 2]\n",
        "\n",
        "r = reordenar_lista(g)\n",
        "print(r)"
      ],
      "metadata": {
        "colab": {
          "base_uri": "https://localhost:8080/"
        },
        "id": "eDH-VJ-Xu_lN",
        "outputId": "165cad29-51d8-43be-8149-4f516861b26c"
      },
      "execution_count": 13,
      "outputs": [
        {
          "output_type": "stream",
          "name": "stdout",
          "text": [
            "[1, 2]\n"
          ]
        }
      ]
    }
  ]
}