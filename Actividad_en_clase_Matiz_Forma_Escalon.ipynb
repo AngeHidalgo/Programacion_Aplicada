{
  "nbformat": 4,
  "nbformat_minor": 0,
  "metadata": {
    "colab": {
      "provenance": [],
      "authorship_tag": "ABX9TyPNmMD3tHJkNBJN2DWK37Zr",
      "include_colab_link": true
    },
    "kernelspec": {
      "name": "python3",
      "display_name": "Python 3"
    },
    "language_info": {
      "name": "python"
    }
  },
  "cells": [
    {
      "cell_type": "markdown",
      "metadata": {
        "id": "view-in-github",
        "colab_type": "text"
      },
      "source": [
        "<a href=\"https://colab.research.google.com/github/AngeHidalgo/Programacion_Aplicada/blob/main/Actividad_en_clase_Matiz_Forma_Escalon.ipynb\" target=\"_parent\"><img src=\"https://colab.research.google.com/assets/colab-badge.svg\" alt=\"Open In Colab\"/></a>"
      ]
    },
    {
      "cell_type": "code",
      "source": [
        "import sympy as sp\n",
        "\n",
        "A=sp.Matrix([\n",
        "    [1,2,3,4],\n",
        "    [0,3,7,2],\n",
        "    [0,2,0,0],\n",
        "\n",
        "])\n",
        "M=A[:,:]\n",
        "M"
      ],
      "metadata": {
        "colab": {
          "base_uri": "https://localhost:8080/",
          "height": 78
        },
        "id": "Dk8jyMLky8ID",
        "outputId": "3bb7cd7d-8b17-40f1-a1ac-2c942202619c"
      },
      "execution_count": 32,
      "outputs": [
        {
          "output_type": "execute_result",
          "data": {
            "text/plain": [
              "Matrix([\n",
              "[1, 2, 3, 4],\n",
              "[0, 3, 7, 2],\n",
              "[0, 2, 0, 0]])"
            ],
            "text/latex": "$\\displaystyle \\left[\\begin{matrix}1 & 2 & 3 & 4\\\\0 & 3 & 7 & 2\\\\0 & 2 & 0 & 0\\end{matrix}\\right]$"
          },
          "metadata": {},
          "execution_count": 32
        }
      ]
    },
    {
      "cell_type": "code",
      "execution_count": 33,
      "metadata": {
        "colab": {
          "base_uri": "https://localhost:8080/",
          "height": 78
        },
        "id": "vYCTiWR_kwrt",
        "outputId": "177298dc-890f-4859-f36c-3a6083890c58"
      },
      "outputs": [
        {
          "output_type": "execute_result",
          "data": {
            "text/plain": [
              "Matrix([\n",
              "[1, 2,   3,   4],\n",
              "[0, 1, 7/3, 2/3],\n",
              "[0, 0,   1, 2/7]])"
            ],
            "text/latex": "$\\displaystyle \\left[\\begin{matrix}1 & 2 & 3 & 4\\\\0 & 1 & \\frac{7}{3} & \\frac{2}{3}\\\\0 & 0 & 1 & \\frac{2}{7}\\end{matrix}\\right]$"
          },
          "metadata": {},
          "execution_count": 33
        }
      ],
      "source": [
        "import sympy as sp\n",
        "\n",
        "def formaescalon(M):\n",
        "    nfilas = M.shape[0]\n",
        "    ncolumnas = M.shape[1]\n",
        "\n",
        "    for elemento_actual in range(0, nfilas):\n",
        "        if M[elemento_actual, elemento_actual] == 0:\n",
        "            for fila_posible in range(elemento_actual + 1, nfilas):\n",
        "                if M[fila_posible, elemento_actual] != 0:\n",
        "                    M.row_swap(elemento_actual, fila_posible)\n",
        "                    break\n",
        "\n",
        "        M[elemento_actual, :] = M[elemento_actual, :] * (1 / M[elemento_actual, elemento_actual])\n",
        "        for fila_actual in range(elemento_actual + 1, nfilas):\n",
        "            M[fila_actual, :] = M[fila_actual, :] - M[elemento_actual, :] * M[fila_actual, elemento_actual]\n",
        "\n",
        "    return M\n",
        "\n",
        "escalon_M = formaescalon(M)\n",
        "escalon_M\n"
      ]
    },
    {
      "cell_type": "code",
      "source": [],
      "metadata": {
        "id": "EqCkuvg-ylor"
      },
      "execution_count": null,
      "outputs": []
    }
  ]
}