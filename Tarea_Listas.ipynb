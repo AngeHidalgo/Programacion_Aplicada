{
  "nbformat": 4,
  "nbformat_minor": 0,
  "metadata": {
    "colab": {
      "provenance": [],
      "authorship_tag": "ABX9TyOSa2r3aODzGsakhdR3B+0A",
      "include_colab_link": true
    },
    "kernelspec": {
      "name": "python3",
      "display_name": "Python 3"
    },
    "language_info": {
      "name": "python"
    }
  },
  "cells": [
    {
      "cell_type": "markdown",
      "metadata": {
        "id": "view-in-github",
        "colab_type": "text"
      },
      "source": [
        "<a href=\"https://colab.research.google.com/github/AngeHidalgo/Programacion_Aplicada/blob/main/Tarea_Listas.ipynb\" target=\"_parent\"><img src=\"https://colab.research.google.com/assets/colab-badge.svg\" alt=\"Open In Colab\"/></a>"
      ]
    },
    {
      "cell_type": "code",
      "execution_count": 1,
      "metadata": {
        "colab": {
          "base_uri": "https://localhost:8080/"
        },
        "id": "FQbBgKDAok__",
        "outputId": "30eef333-2731-4d81-d8f3-2b1c0f4d2a33"
      },
      "outputs": [
        {
          "output_type": "stream",
          "name": "stdout",
          "text": [
            "[6, 2, 4, 2, 1]\n"
          ]
        }
      ],
      "source": [
        "def eliminar_cero(lista, elemento):\n",
        "    return list(filter(lambda x: x != elemento, lista))\n",
        "\n",
        "l = [1,2,0,4,2,6]\n",
        "numero = 0\n",
        "\n",
        "r = eliminar_cero(l, numero)\n",
        "m=list(reversed(r))\n",
        "print(m)"
      ]
    },
    {
      "cell_type": "code",
      "source": [
        "def eliminar_cero(lista, elemento):\n",
        "    return list(filter(lambda x: x != elemento, lista))\n",
        "\n",
        "l = [0,1,0,2,0,3]\n",
        "numero = 0\n",
        "\n",
        "r = eliminar_cero(l, numero)\n",
        "m=list(reversed(r))\n",
        "print(m)"
      ],
      "metadata": {
        "colab": {
          "base_uri": "https://localhost:8080/"
        },
        "id": "k6pAmrlIp-f6",
        "outputId": "6a4fd5ff-f39c-4b18-dccd-1b67c9244100"
      },
      "execution_count": 2,
      "outputs": [
        {
          "output_type": "stream",
          "name": "stdout",
          "text": [
            "[3, 2, 1]\n"
          ]
        }
      ]
    },
    {
      "cell_type": "code",
      "source": [
        "def eliminar_cero(lista, elemento):\n",
        "    return list(filter(lambda x: x != elemento, lista))\n",
        "\n",
        "l = [0,0,2,2,3,3]\n",
        "numero = 0\n",
        "\n",
        "r = eliminar_cero(l, numero)\n",
        "m=list(reversed(r))\n",
        "print(m)"
      ],
      "metadata": {
        "colab": {
          "base_uri": "https://localhost:8080/"
        },
        "id": "OukeVGxRqDdD",
        "outputId": "2c9f47c5-c3ac-4d27-b8d8-a1370eb23c64"
      },
      "execution_count": 3,
      "outputs": [
        {
          "output_type": "stream",
          "name": "stdout",
          "text": [
            "[3, 3, 2, 2]\n"
          ]
        }
      ]
    }
  ]
}