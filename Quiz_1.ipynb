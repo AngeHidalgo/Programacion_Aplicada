{
  "nbformat": 4,
  "nbformat_minor": 0,
  "metadata": {
    "colab": {
      "provenance": [],
      "authorship_tag": "ABX9TyMY61ERipDwyC+hBrbL45I7",
      "include_colab_link": true
    },
    "kernelspec": {
      "name": "python3",
      "display_name": "Python 3"
    },
    "language_info": {
      "name": "python"
    }
  },
  "cells": [
    {
      "cell_type": "markdown",
      "metadata": {
        "id": "view-in-github",
        "colab_type": "text"
      },
      "source": [
        "<a href=\"https://colab.research.google.com/github/AngeHidalgo/Programacion_Aplicada/blob/main/Quiz_1.ipynb\" target=\"_parent\"><img src=\"https://colab.research.google.com/assets/colab-badge.svg\" alt=\"Open In Colab\"/></a>"
      ]
    },
    {
      "cell_type": "code",
      "execution_count": 3,
      "metadata": {
        "colab": {
          "base_uri": "https://localhost:8080/"
        },
        "id": "nulqCnUyFtzW",
        "outputId": "c97aa718-3b18-49ff-b914-252c126b9a22"
      },
      "outputs": [
        {
          "output_type": "stream",
          "name": "stdout",
          "text": [
            "<map object at 0x7ac8041f8be0>\n",
            "<map object at 0x7ac8041f8be0>\n",
            "<map object at 0x7ac8041f8be0>\n",
            "<map object at 0x7ac8041f8be0>\n"
          ]
        }
      ],
      "source": [
        "e=[1,2,3,5]\n",
        "\n",
        "def suma(x):\n",
        "  return x+5\n",
        "\n",
        "y=map(suma,e)\n",
        "\n",
        "for i in y:\n",
        "  print(y)\n",
        "\n"
      ]
    },
    {
      "cell_type": "code",
      "source": [
        "def par (g):\n",
        "  return g%2==0\n",
        "\n",
        "filter(par,e)\n",
        "print(filter (par,e))"
      ],
      "metadata": {
        "colab": {
          "base_uri": "https://localhost:8080/"
        },
        "id": "q8VFvzgpIQcx",
        "outputId": "1b7e5637-fa86-4d70-d24e-58ff6f792326"
      },
      "execution_count": 7,
      "outputs": [
        {
          "output_type": "stream",
          "name": "stdout",
          "text": [
            "<filter object at 0x7ac8041f91e0>\n"
          ]
        }
      ]
    },
    {
      "cell_type": "code",
      "source": [
        "e=tuple(filter(lambda x:x%2==0, [1,5,3,2,6]))\n",
        "tuple (map(lambda x:x/2,e))"
      ],
      "metadata": {
        "colab": {
          "base_uri": "https://localhost:8080/"
        },
        "id": "yP9htPUiIfCp",
        "outputId": "78532dda-362d-4470-b4ba-ee3f1534acb9"
      },
      "execution_count": 8,
      "outputs": [
        {
          "output_type": "execute_result",
          "data": {
            "text/plain": [
              "(1.0, 3.0)"
            ]
          },
          "metadata": {},
          "execution_count": 8
        }
      ]
    }
  ]
}