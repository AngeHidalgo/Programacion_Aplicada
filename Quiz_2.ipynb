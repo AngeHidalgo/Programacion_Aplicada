{
  "nbformat": 4,
  "nbformat_minor": 0,
  "metadata": {
    "colab": {
      "provenance": [],
      "authorship_tag": "ABX9TyOc2HqO/LcFiKjY3wnhceE5",
      "include_colab_link": true
    },
    "kernelspec": {
      "name": "python3",
      "display_name": "Python 3"
    },
    "language_info": {
      "name": "python"
    }
  },
  "cells": [
    {
      "cell_type": "markdown",
      "metadata": {
        "id": "view-in-github",
        "colab_type": "text"
      },
      "source": [
        "<a href=\"https://colab.research.google.com/github/AngeHidalgo/Programacion_Aplicada/blob/main/Quiz_2.ipynb\" target=\"_parent\"><img src=\"https://colab.research.google.com/assets/colab-badge.svg\" alt=\"Open In Colab\"/></a>"
      ]
    },
    {
      "cell_type": "markdown",
      "source": [
        "Realice una función que dado un texto como parametro retorna un texto separado con comas e imprimirlo como una lista de latéx\n"
      ],
      "metadata": {
        "id": "108AdtLtNL--"
      }
    },
    {
      "cell_type": "code",
      "source": [
        "txt = 'uno, dos, tres'\n",
        "\n",
        "print(\"\\\\begin{itemize}\\n\")\n",
        "\n",
        "def texlatex2(txt):\n",
        "    items = txt.split(', ')\n",
        "    latex_list =\"  \\\\item \" + \"\\n  \\\\item \".join(items) + \"\\n\"\n",
        "    return latex_list\n",
        "\n",
        "latex_output = texlatex2(txt)\n",
        "\n",
        "latex_output\n",
        "print(latex_output)\n",
        "\n",
        "print(\"\\\\end{itemize}\")"
      ],
      "metadata": {
        "colab": {
          "base_uri": "https://localhost:8080/"
        },
        "id": "MhWug6zWewl5",
        "outputId": "663d9aee-2a2f-4c57-cd76-a91b43612610"
      },
      "execution_count": 18,
      "outputs": [
        {
          "output_type": "stream",
          "name": "stdout",
          "text": [
            "\\begin{itemize}\n",
            "\n",
            "  \\item uno\n",
            "  \\item dos\n",
            "  \\item tres\n",
            "\n",
            "\\end{itemize}\n"
          ]
        }
      ]
    }
  ]
}