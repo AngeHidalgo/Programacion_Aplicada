{
  "nbformat": 4,
  "nbformat_minor": 0,
  "metadata": {
    "colab": {
      "provenance": [],
      "authorship_tag": "ABX9TyPTfKbSeRumUekS+l5tPrj8",
      "include_colab_link": true
    },
    "kernelspec": {
      "name": "python3",
      "display_name": "Python 3"
    },
    "language_info": {
      "name": "python"
    }
  },
  "cells": [
    {
      "cell_type": "markdown",
      "metadata": {
        "id": "view-in-github",
        "colab_type": "text"
      },
      "source": [
        "<a href=\"https://colab.research.google.com/github/AngeHidalgo/Programacion_Aplicada/blob/main/Pruebas_de_doctest.ipynb\" target=\"_parent\"><img src=\"https://colab.research.google.com/assets/colab-badge.svg\" alt=\"Open In Colab\"/></a>"
      ]
    },
    {
      "cell_type": "code",
      "execution_count": null,
      "metadata": {
        "colab": {
          "base_uri": "https://localhost:8080/"
        },
        "id": "S5cldOhpLrYE",
        "outputId": "9a80cb34-2a90-48ad-f5f7-8a73f3256bdc"
      },
      "outputs": [
        {
          "output_type": "execute_result",
          "data": {
            "text/plain": [
              "TestResults(failed=0, attempted=4)"
            ]
          },
          "metadata": {},
          "execution_count": 5
        }
      ],
      "source": [
        "def factorial(n):\n",
        "    \"\"\"\n",
        "    Calcula el factorial de un número entero no negativo.\n",
        "\n",
        "    :param n: El número entero para el que se calculará el factorial.\n",
        "    :return: El factorial de n.\n",
        "\n",
        "    Ejemplos:\n",
        "\n",
        "    >>> factorial(0)\n",
        "    1\n",
        "    >>> factorial(1)\n",
        "    1\n",
        "    >>> factorial(5)\n",
        "    120\n",
        "    >>> factorial(10)\n",
        "    3628800\n",
        "    \"\"\"\n",
        "    if n == 0:\n",
        "        return 1\n",
        "    else:\n",
        "        return n * factorial(n-1)\n",
        "\n",
        "import doctest\n",
        "doctest.testmod()\n"
      ]
    }
  ]
}