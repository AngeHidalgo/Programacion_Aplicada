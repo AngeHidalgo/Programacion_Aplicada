{
  "nbformat": 4,
  "nbformat_minor": 0,
  "metadata": {
    "colab": {
      "provenance": [],
      "authorship_tag": "ABX9TyORLdwm/mNa/Zi6Cjofgr1D",
      "include_colab_link": true
    },
    "kernelspec": {
      "name": "python3",
      "display_name": "Python 3"
    },
    "language_info": {
      "name": "python"
    }
  },
  "cells": [
    {
      "cell_type": "markdown",
      "metadata": {
        "id": "view-in-github",
        "colab_type": "text"
      },
      "source": [
        "<a href=\"https://colab.research.google.com/github/AngeHidalgo/Programacion_Aplicada/blob/main/Punto_C_Taller_2023_27_09.ipynb\" target=\"_parent\"><img src=\"https://colab.research.google.com/assets/colab-badge.svg\" alt=\"Open In Colab\"/></a>"
      ]
    },
    {
      "cell_type": "code",
      "source": [
        "def intercambiar_filas(matriz, fila1, fila2, num_columnas):\n",
        "    inicio_fila1 = fila1 * num_columnas\n",
        "    inicio_fila2 = fila2 * num_columnas\n",
        "\n",
        "    # Extrae las filas que se intercambiarán\n",
        "    fila1_datos = matriz[inicio_fila1:inicio_fila1 + num_columnas]\n",
        "    fila2_datos = matriz[inicio_fila2:inicio_fila2 + num_columnas]\n",
        "\n",
        "    # Intercambia las filas\n",
        "    matriz[inicio_fila1:inicio_fila1 + num_columnas] = fila2_datos\n",
        "    matriz[inicio_fila2:inicio_fila2 + num_columnas] = fila1_datos\n",
        "\n",
        "    return matriz\n",
        "\n",
        "array_arrays = [4, 1, 2, 3, 5, 4, 5, 6, 8, 7, 8, 9, 7]\n",
        "num_columnas = array_arrays[0]\n",
        "matriz = array_arrays[1:]\n",
        "\n",
        "\n",
        "print(\"Array original:\")\n",
        "print(matriz)\n",
        "\n",
        "fila1 = 0\n",
        "fila2 = 2\n",
        "\n",
        "matriz = intercambiar_filas(matriz, fila1, fila2, num_columnas)\n",
        "\n",
        "print(\"\\nArray con filas {} y {} intercambiadas:\".format(fila1, fila2))\n",
        "print(matriz)\n"
      ],
      "metadata": {
        "colab": {
          "base_uri": "https://localhost:8080/"
        },
        "id": "Fdp1UkPRItGj",
        "outputId": "f02ee24a-3211-4190-9a60-137a51b6809b"
      },
      "execution_count": 12,
      "outputs": [
        {
          "output_type": "stream",
          "name": "stdout",
          "text": [
            "Array original:\n",
            "[1, 2, 3, 5, 4, 5, 6, 8, 7, 8, 9, 7]\n",
            "\n",
            "Array con filas 0 y 2 intercambiadas:\n",
            "[7, 8, 9, 7, 4, 5, 6, 8, 1, 2, 3, 5]\n"
          ]
        }
      ]
    },
    {
      "cell_type": "code",
      "source": [
        "def sumar_multiplo(matriz, fila_objetivo, fila_origen, factor_multiplo, num_columnas):\n",
        "    inicio_fila_objetivo = fila_objetivo * num_columnas\n",
        "    inicio_fila_origen = fila_origen * num_columnas\n",
        "\n",
        "    matriz[inicio_fila_objetivo:inicio_fila_objetivo + num_columnas] = [\n",
        "        x + y * factor_multiplo for x, y in zip(\n",
        "            matriz[inicio_fila_objetivo:inicio_fila_objetivo + num_columnas],\n",
        "            matriz[inicio_fila_origen:inicio_fila_origen + num_columnas]\n",
        "        )\n",
        "    ]\n",
        "\n",
        "\n",
        "# Definir una matriz como una lista plana y el número de columnas\n",
        "array_arrays = [4, 1, 2, 3, 5, 4, 5, 6, 8, 7, 8, 9, 7]\n",
        "num_columnas = array_arrays[0]\n",
        "matriz = array_arrays[1:]\n",
        "\n",
        "# Mostrar la matriz original\n",
        "print(\"Matriz original:\\n\", matriz)\n",
        "\n",
        "\n",
        "# Sumar 2 veces la segunda fila a la tercera fila\n",
        "fila_objetivo = 2\n",
        "fila_origen = 1\n",
        "factor_multiplo = 3\n",
        "sumar_multiplo(matriz, fila_objetivo, fila_origen, factor_multiplo, num_columnas)\n",
        "\n",
        "# Mostrar la matriz después de la suma\n",
        "print(\"\\nMatriz después de la suma:\\n\", matriz)\n",
        "\n"
      ],
      "metadata": {
        "colab": {
          "base_uri": "https://localhost:8080/"
        },
        "id": "PnU2tgXLQ60B",
        "outputId": "194212f1-2881-4896-f657-79745f762387"
      },
      "execution_count": 21,
      "outputs": [
        {
          "output_type": "stream",
          "name": "stdout",
          "text": [
            "Matriz original:\n",
            " [1, 2, 3, 5, 4, 5, 6, 8, 7, 8, 9, 7]\n",
            "\n",
            "Matriz después de la suma:\n",
            " [1, 2, 3, 5, 4, 5, 6, 8, 19, 23, 27, 31]\n"
          ]
        }
      ]
    }
  ]
}