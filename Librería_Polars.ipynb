{
  "nbformat": 4,
  "nbformat_minor": 0,
  "metadata": {
    "colab": {
      "provenance": [],
      "authorship_tag": "ABX9TyOLQRpMaWRV+wASAiO/FrBN",
      "include_colab_link": true
    },
    "kernelspec": {
      "name": "python3",
      "display_name": "Python 3"
    },
    "language_info": {
      "name": "python"
    }
  },
  "cells": [
    {
      "cell_type": "markdown",
      "metadata": {
        "id": "view-in-github",
        "colab_type": "text"
      },
      "source": [
        "<a href=\"https://colab.research.google.com/github/AngeHidalgo/Programacion_Aplicada/blob/main/Librer%C3%ADa_Polars.ipynb\" target=\"_parent\"><img src=\"https://colab.research.google.com/assets/colab-badge.svg\" alt=\"Open In Colab\"/></a>"
      ]
    },
    {
      "cell_type": "code",
      "source": [
        "pip install polars"
      ],
      "metadata": {
        "colab": {
          "base_uri": "https://localhost:8080/"
        },
        "id": "4e8ilP19l3DF",
        "outputId": "9126217c-2568-4311-da9d-dd074fbe97e9"
      },
      "execution_count": 7,
      "outputs": [
        {
          "output_type": "stream",
          "name": "stdout",
          "text": [
            "Requirement already satisfied: polars in /usr/local/lib/python3.10/dist-packages (0.17.3)\n",
            "Requirement already satisfied: typing_extensions>=4.0.1 in /usr/local/lib/python3.10/dist-packages (from polars) (4.5.0)\n"
          ]
        }
      ]
    },
    {
      "cell_type": "code",
      "execution_count": 8,
      "metadata": {
        "colab": {
          "base_uri": "https://localhost:8080/"
        },
        "id": "P2B2GjkC60YI",
        "outputId": "986e1ca6-c126-4f39-f4f9-bf26373081bf"
      },
      "outputs": [
        {
          "output_type": "stream",
          "name": "stdout",
          "text": [
            "shape: (5,)\n",
            "Series: 'a' [i64]\n",
            "[\n",
            "\t1\n",
            "\t2\n",
            "\t3\n",
            "\t4\n",
            "\t5\n",
            "]\n"
          ]
        }
      ],
      "source": [
        "import polars as pl\n",
        "\n",
        "s = pl.Series(\"a\", [1, 2, 3, 4, 5])\n",
        "print(s)"
      ]
    },
    {
      "cell_type": "code",
      "source": [
        "from datetime import datetime\n",
        "\n",
        "df = pl.DataFrame(\n",
        "    {\n",
        "\n",
        "        \"integer\": [1, 2, 3, 4, 5],\n",
        "        \"date\": [\n",
        "            datetime(2022, 1, 1),\n",
        "            datetime(2022, 1, 2),\n",
        "            datetime(2022, 1, 3),\n",
        "            datetime(2022, 1, 4),\n",
        "            datetime(2022, 1, 5),\n",
        "        ],\n",
        "        \"float\": [4.0, 5.0, 6.0, 7.0, 8.0],\n",
        "        \"int\": [0, 1, 2, 3, 4],\n",
        "    }\n",
        ")\n",
        "\n",
        "print(df)"
      ],
      "metadata": {
        "colab": {
          "base_uri": "https://localhost:8080/"
        },
        "id": "cf95gbxAF03R",
        "outputId": "619643d6-f698-4f03-ac46-5629bd7111ca"
      },
      "execution_count": 9,
      "outputs": [
        {
          "output_type": "stream",
          "name": "stdout",
          "text": [
            "shape: (5, 4)\n",
            "┌─────────┬─────────────────────┬───────┬─────┐\n",
            "│ integer ┆ date                ┆ float ┆ int │\n",
            "│ ---     ┆ ---                 ┆ ---   ┆ --- │\n",
            "│ i64     ┆ datetime[μs]        ┆ f64   ┆ i64 │\n",
            "╞═════════╪═════════════════════╪═══════╪═════╡\n",
            "│ 1       ┆ 2022-01-01 00:00:00 ┆ 4.0   ┆ 0   │\n",
            "│ 2       ┆ 2022-01-02 00:00:00 ┆ 5.0   ┆ 1   │\n",
            "│ 3       ┆ 2022-01-03 00:00:00 ┆ 6.0   ┆ 2   │\n",
            "│ 4       ┆ 2022-01-04 00:00:00 ┆ 7.0   ┆ 3   │\n",
            "│ 5       ┆ 2022-01-05 00:00:00 ┆ 8.0   ┆ 4   │\n",
            "└─────────┴─────────────────────┴───────┴─────┘\n"
          ]
        }
      ]
    },
    {
      "cell_type": "code",
      "source": [
        "import polars as pl\n",
        "import numpy as np\n",
        "from datetime import datetime\n",
        "\n",
        "df = pl.DataFrame(\n",
        "    {\n",
        "        \"nrs\": [1, 2, 3, None, 5],\n",
        "        \"names\": [\"foo\", \"ham\", \"spam\", \"egg\", None],\n",
        "        \"random\": np.random.rand(5),\n",
        "        \"groups\": [\"A\", \"A\", \"B\", \"C\", \"B\"],\n",
        "  }\n",
        ")\n",
        "\n",
        "print(df)\n",
        "\n",
        "\n",
        "\n",
        "\n"
      ],
      "metadata": {
        "colab": {
          "base_uri": "https://localhost:8080/"
        },
        "id": "IRRjwn3fHwU2",
        "outputId": "47c4828f-cddb-48f0-ea7f-dee11e9cc89d"
      },
      "execution_count": 10,
      "outputs": [
        {
          "output_type": "stream",
          "name": "stdout",
          "text": [
            "shape: (5, 4)\n",
            "┌──────┬───────┬──────────┬────────┐\n",
            "│ nrs  ┆ names ┆ random   ┆ groups │\n",
            "│ ---  ┆ ---   ┆ ---      ┆ ---    │\n",
            "│ i64  ┆ str   ┆ f64      ┆ str    │\n",
            "╞══════╪═══════╪══════════╪════════╡\n",
            "│ 1    ┆ foo   ┆ 0.204473 ┆ A      │\n",
            "│ 2    ┆ ham   ┆ 0.557699 ┆ A      │\n",
            "│ 3    ┆ spam  ┆ 0.17391  ┆ B      │\n",
            "│ null ┆ egg   ┆ 0.898613 ┆ C      │\n",
            "│ 5    ┆ null  ┆ 0.782219 ┆ B      │\n",
            "└──────┴───────┴──────────┴────────┘\n",
            "shape: (5, 5)\n",
            "┌─────┬───────┬──────────┬────────────┬─────┐\n",
            "│ nrs ┆ names ┆ random   ┆ first name ┆     │\n",
            "│ --- ┆ ---   ┆ ---      ┆ ---        ┆ --- │\n",
            "│ i64 ┆ str   ┆ f64      ┆ str        ┆ str │\n",
            "╞═════╪═══════╪══════════╪════════════╪═════╡\n",
            "│ 11  ┆ null  ┆ 0.204473 ┆ foo        ┆ foo │\n",
            "│ 11  ┆ egg   ┆ 0.557699 ┆ foo        ┆ foo │\n",
            "│ 11  ┆ foo   ┆ 0.17391  ┆ foo        ┆ foo │\n",
            "│ 11  ┆ ham   ┆ 0.898613 ┆ foo        ┆ foo │\n",
            "│ 11  ┆ spam  ┆ 0.782219 ┆ foo        ┆ foo │\n",
            "└─────┴───────┴──────────┴────────────┴─────┘\n"
          ]
        }
      ]
    },
    {
      "cell_type": "code",
      "source": [
        "out = df.select(\n",
        "  pl.sum(\"nrs\"),\n",
        "  pl.col(\"names\").sort(),\n",
        "  pl.col(\"random\"),\n",
        "  pl.col(\"names\").first().alias(\"first name\"),\n",
        "  (pl.mean(\"nrs\") * 10).alias(\"10xnrs\"),\n",
        ")\n",
        "\n",
        "\n",
        "\n",
        "print(out)"
      ],
      "metadata": {
        "colab": {
          "base_uri": "https://localhost:8080/"
        },
        "id": "2Q1-hDYZhSaS",
        "outputId": "afa047a8-a000-4692-a586-ae147e09f584"
      },
      "execution_count": 13,
      "outputs": [
        {
          "output_type": "stream",
          "name": "stdout",
          "text": [
            "shape: (5, 5)\n",
            "┌─────┬───────┬──────────┬────────────┬────────┐\n",
            "│ nrs ┆ names ┆ random   ┆ first name ┆ 10xnrs │\n",
            "│ --- ┆ ---   ┆ ---      ┆ ---        ┆ ---    │\n",
            "│ i64 ┆ str   ┆ f64      ┆ str        ┆ f64    │\n",
            "╞═════╪═══════╪══════════╪════════════╪════════╡\n",
            "│ 11  ┆ null  ┆ 0.204473 ┆ foo        ┆ 27.5   │\n",
            "│ 11  ┆ egg   ┆ 0.557699 ┆ foo        ┆ 27.5   │\n",
            "│ 11  ┆ foo   ┆ 0.17391  ┆ foo        ┆ 27.5   │\n",
            "│ 11  ┆ ham   ┆ 0.898613 ┆ foo        ┆ 27.5   │\n",
            "│ 11  ┆ spam  ┆ 0.782219 ┆ foo        ┆ 27.5   │\n",
            "└─────┴───────┴──────────┴────────────┴────────┘\n"
          ]
        }
      ]
    },
    {
      "cell_type": "code",
      "source": [
        "df = df.with_columns(\n",
        "    pl.sum(\"nrs\").alias(\"nrs_sum\"),\n",
        "    pl.col(\"random\").count().alias(\"count\"),\n",
        ")\n",
        "print(df)"
      ],
      "metadata": {
        "colab": {
          "base_uri": "https://localhost:8080/"
        },
        "id": "jGxw0_CinDrm",
        "outputId": "caffa2d1-7c39-4012-d5c5-e6b5c7b81df5"
      },
      "execution_count": 14,
      "outputs": [
        {
          "output_type": "stream",
          "name": "stdout",
          "text": [
            "shape: (5, 6)\n",
            "┌──────┬───────┬──────────┬────────┬─────────┬───────┐\n",
            "│ nrs  ┆ names ┆ random   ┆ groups ┆ nrs_sum ┆ count │\n",
            "│ ---  ┆ ---   ┆ ---      ┆ ---    ┆ ---     ┆ ---   │\n",
            "│ i64  ┆ str   ┆ f64      ┆ str    ┆ i64     ┆ u32   │\n",
            "╞══════╪═══════╪══════════╪════════╪═════════╪═══════╡\n",
            "│ 1    ┆ foo   ┆ 0.204473 ┆ A      ┆ 11      ┆ 5     │\n",
            "│ 2    ┆ ham   ┆ 0.557699 ┆ A      ┆ 11      ┆ 5     │\n",
            "│ 3    ┆ spam  ┆ 0.17391  ┆ B      ┆ 11      ┆ 5     │\n",
            "│ null ┆ egg   ┆ 0.898613 ┆ C      ┆ 11      ┆ 5     │\n",
            "│ 5    ┆ null  ┆ 0.782219 ┆ B      ┆ 11      ┆ 5     │\n",
            "└──────┴───────┴──────────┴────────┴─────────┴───────┘\n"
          ]
        }
      ]
    },
    {
      "cell_type": "code",
      "source": [
        "out = df.groupby(\"groups\").agg(\n",
        "    pl.sum(\"nrs\"),  # sum nrs by groups\n",
        "    pl.col(\"random\").count().alias(\"count\"),  # count group members\n",
        "    # sum random where name != null\n",
        "    pl.col(\"random\").filter(pl.col(\"names\").is_not_null()).sum().suffix(\"_sum\"),\n",
        "    pl.col(\"names\").reverse().alias(\"reversed names\"),\n",
        ")\n",
        "print(out)"
      ],
      "metadata": {
        "colab": {
          "base_uri": "https://localhost:8080/"
        },
        "id": "rLZ3PQBanZhT",
        "outputId": "6f81d65f-1f15-4a56-c008-f4cc1493be3b"
      },
      "execution_count": 15,
      "outputs": [
        {
          "output_type": "stream",
          "name": "stdout",
          "text": [
            "shape: (3, 5)\n",
            "┌────────┬──────┬───────┬────────────┬────────────────┐\n",
            "│ groups ┆ nrs  ┆ count ┆ random_sum ┆ reversed names │\n",
            "│ ---    ┆ ---  ┆ ---   ┆ ---        ┆ ---            │\n",
            "│ str    ┆ i64  ┆ u32   ┆ f64        ┆ list[str]      │\n",
            "╞════════╪══════╪═══════╪════════════╪════════════════╡\n",
            "│ A      ┆ 3    ┆ 2     ┆ 0.762172   ┆ [\"ham\", \"foo\"] │\n",
            "│ C      ┆ null ┆ 1     ┆ 0.898613   ┆ [\"egg\"]        │\n",
            "│ B      ┆ 8    ┆ 2     ┆ 0.17391    ┆ [null, \"spam\"] │\n",
            "└────────┴──────┴───────┴────────────┴────────────────┘\n"
          ]
        }
      ]
    },
    {
      "cell_type": "code",
      "source": [
        "df = pl.DataFrame(\n",
        "    {\n",
        "        \"nrs\": [1, 2, 3, None, 5],\n",
        "        \"names\": [\"foo\", \"ham\", \"spam\", \"egg\", None],\n",
        "        \"random\": np.random.rand(5),\n",
        "        \"groups\": [\"A\", \"A\", \"B\", \"C\", \"B\"],\n",
        "        \"Animal\":[\"Dog\",\"Cat\",\"Bird\", \"Shark\",None ]\n",
        "    }\n",
        ")\n",
        "print(df)"
      ],
      "metadata": {
        "colab": {
          "base_uri": "https://localhost:8080/"
        },
        "id": "30zr9DOAneEv",
        "outputId": "68985005-8efa-4893-82d7-f50648a1a100"
      },
      "execution_count": 16,
      "outputs": [
        {
          "output_type": "stream",
          "name": "stdout",
          "text": [
            "shape: (5, 5)\n",
            "┌──────┬───────┬──────────┬────────┬────────┐\n",
            "│ nrs  ┆ names ┆ random   ┆ groups ┆ Animal │\n",
            "│ ---  ┆ ---   ┆ ---      ┆ ---    ┆ ---    │\n",
            "│ i64  ┆ str   ┆ f64      ┆ str    ┆ str    │\n",
            "╞══════╪═══════╪══════════╪════════╪════════╡\n",
            "│ 1    ┆ foo   ┆ 0.058772 ┆ A      ┆ Dog    │\n",
            "│ 2    ┆ ham   ┆ 0.508074 ┆ A      ┆ Cat    │\n",
            "│ 3    ┆ spam  ┆ 0.304823 ┆ B      ┆ Bird   │\n",
            "│ null ┆ egg   ┆ 0.737181 ┆ C      ┆ Shark  │\n",
            "│ 5    ┆ null  ┆ 0.692426 ┆ B      ┆ null   │\n",
            "└──────┴───────┴──────────┴────────┴────────┘\n"
          ]
        }
      ]
    },
    {
      "cell_type": "code",
      "source": [
        "df = df.with_columns(\n",
        "    pl.sum(5).alias(\"random_sum\"),\n",
        ")\n",
        "print(df)"
      ],
      "metadata": {
        "colab": {
          "base_uri": "https://localhost:8080/"
        },
        "id": "vOh-8JWJniX7",
        "outputId": "45923386-8c9b-44d4-c3c7-93ccf2b5286c"
      },
      "execution_count": 23,
      "outputs": [
        {
          "output_type": "stream",
          "name": "stdout",
          "text": [
            "shape: (5, 6)\n",
            "┌──────┬───────┬──────────┬────────┬────────┬────────────┐\n",
            "│ nrs  ┆ names ┆ random   ┆ groups ┆ Animal ┆ random_sum │\n",
            "│ ---  ┆ ---   ┆ ---      ┆ ---    ┆ ---    ┆ ---        │\n",
            "│ i64  ┆ str   ┆ f64      ┆ str    ┆ str    ┆ i64        │\n",
            "╞══════╪═══════╪══════════╪════════╪════════╪════════════╡\n",
            "│ 1    ┆ foo   ┆ 0.058772 ┆ A      ┆ Dog    ┆ 5          │\n",
            "│ 2    ┆ ham   ┆ 0.508074 ┆ A      ┆ Cat    ┆ 5          │\n",
            "│ 3    ┆ spam  ┆ 0.304823 ┆ B      ┆ Bird   ┆ 5          │\n",
            "│ null ┆ egg   ┆ 0.737181 ┆ C      ┆ Shark  ┆ 5          │\n",
            "│ 5    ┆ null  ┆ 0.692426 ┆ B      ┆ null   ┆ 5          │\n",
            "└──────┴───────┴──────────┴────────┴────────┴────────────┘\n"
          ]
        }
      ]
    }
  ]
}