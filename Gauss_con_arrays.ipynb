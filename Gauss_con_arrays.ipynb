{
  "nbformat": 4,
  "nbformat_minor": 0,
  "metadata": {
    "colab": {
      "provenance": [],
      "authorship_tag": "ABX9TyNCRd+BKUvqZUtRD5QOmVN3",
      "include_colab_link": true
    },
    "kernelspec": {
      "name": "python3",
      "display_name": "Python 3"
    },
    "language_info": {
      "name": "python"
    }
  },
  "cells": [
    {
      "cell_type": "markdown",
      "metadata": {
        "id": "view-in-github",
        "colab_type": "text"
      },
      "source": [
        "<a href=\"https://colab.research.google.com/github/AngeHidalgo/Programacion_Aplicada/blob/main/Gauss_con_arrays.ipynb\" target=\"_parent\"><img src=\"https://colab.research.google.com/assets/colab-badge.svg\" alt=\"Open In Colab\"/></a>"
      ]
    },
    {
      "cell_type": "code",
      "source": [
        "\n",
        "def formaescalon(M):\n",
        "    nfilas = len(M)\n",
        "    ncolumnas = len(M[0])\n",
        "\n",
        "    fila_actual = 0\n",
        "    columna_actual = 0\n",
        "\n",
        "    while fila_actual < nfilas and columna_actual < ncolumnas:\n",
        "        pivote = None\n",
        "        for i in range(fila_actual, nfilas):\n",
        "            if M[i][columna_actual] != 0:\n",
        "                pivote = M[i][columna_actual]\n",
        "                break\n",
        "\n",
        "        if pivote is None:\n",
        "            columna_actual += 1\n",
        "            continue\n",
        "\n",
        "        for j in range(fila_actual, ncolumnas):\n",
        "            M[fila_actual][j] /= pivote\n",
        "\n",
        "\n",
        "        for i in range(fila_actual + 1, nfilas):\n",
        "            factor = M[i][columna_actual]\n",
        "            for j in range(fila_actual, ncolumnas):\n",
        "                M[i][j] -= factor * M[fila_actual][j]\n",
        "\n",
        "        fila_actual += 1\n",
        "        columna_actual += 1\n",
        "\n",
        "    return M\n",
        "\n",
        "M = [[2.0, 1.0, 1.0, 8.0],[1.0, 3.0, 2.0, 11.0],[1.0, 0.0, 1.0, 6.0]]\n",
        "\n",
        "print(\"Matriz original:\")\n",
        "print(M)\n",
        "\n",
        "escalon_M = formaescalon([fila[:] for fila in M])\n",
        "print(\"\\nMatriz escalonada:\")\n",
        "print(escalon_M)\n"
      ],
      "metadata": {
        "colab": {
          "base_uri": "https://localhost:8080/"
        },
        "id": "G2cj6KRxKdNO",
        "outputId": "4212218f-c1d4-4e40-b311-2bf9cb0efd86"
      },
      "execution_count": 10,
      "outputs": [
        {
          "output_type": "stream",
          "name": "stdout",
          "text": [
            "Matriz original:\n",
            "[[2.0, 1.0, 1.0, 8.0], [1.0, 3.0, 2.0, 11.0], [1.0, 0.0, 1.0, 6.0]]\n",
            "\n",
            "Matriz escalonada:\n",
            "[[1.0, 0.5, 0.5, 4.0], [0.0, 1.0, 0.6, 2.8], [0.0, 0.0, 1.0, 4.25]]\n"
          ]
        }
      ]
    }
  ]
}